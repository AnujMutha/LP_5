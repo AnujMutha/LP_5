{
 "cells": [
  {
   "cell_type": "markdown",
   "metadata": {
    "id": "5JYfqmP9BzUR"
   },
   "source": [
    "**Loading IMDB Dataset**"
   ]
  },
  {
   "cell_type": "code",
   "execution_count": 1,
   "metadata": {
    "id": "Pn3bBTWTAJFR"
   },
   "outputs": [],
   "source": [
    "from keras.datasets import imdb"
   ]
  },
  {
   "cell_type": "code",
   "execution_count": 2,
   "metadata": {
    "colab": {
     "base_uri": "https://localhost:8080/"
    },
    "executionInfo": {
     "elapsed": 9009,
     "status": "ok",
     "timestamp": 1681968071055,
     "user": {
      "displayName": "BE_34_RUTUJA KSHIRSAGAR",
      "userId": "06581391834863968991"
     },
     "user_tz": -330
    },
    "id": "iSTGP76RAdps",
    "outputId": "4c2b3904-5f64-42d0-cd62-09bf0218fc7b"
   },
   "outputs": [
    {
     "name": "stdout",
     "output_type": "stream",
     "text": [
      "Downloading data from https://storage.googleapis.com/tensorflow/tf-keras-datasets/imdb.npz\n",
      "17464789/17464789 [==============================] - 1s 0us/step\n"
     ]
    }
   ],
   "source": [
    "#Load most frequently occuring word, i.e.only 10000 words\n",
    "(train_data, train_labels), (test_data, test_labels) = imdb.load_data(num_words = 10000) "
   ]
  },
  {
   "cell_type": "code",
   "execution_count": 3,
   "metadata": {
    "colab": {
     "base_uri": "https://localhost:8080/"
    },
    "executionInfo": {
     "elapsed": 1410,
     "status": "ok",
     "timestamp": 1681968074906,
     "user": {
      "displayName": "BE_34_RUTUJA KSHIRSAGAR",
      "userId": "06581391834863968991"
     },
     "user_tz": -330
    },
    "id": "GV2ivRkUBjke",
    "outputId": "3bfb45a4-282e-44c7-bff1-ad1a9465752c"
   },
   "outputs": [
    {
     "name": "stdout",
     "output_type": "stream",
     "text": [
      "<class 'list'>\n"
     ]
    },
    {
     "data": {
      "text/plain": [
       "9999"
      ]
     },
     "execution_count": 3,
     "metadata": {},
     "output_type": "execute_result"
    }
   ],
   "source": [
    "print(type([max(sequence) for sequence in train_data]))\n",
    "# Find the maximum of all max indexes\n",
    "max([max(sequence) for sequence in train_data])"
   ]
  },
  {
   "cell_type": "markdown",
   "metadata": {
    "id": "JQAKEayeDctl"
   },
   "source": [
    "**Preparing the Dataset**"
   ]
  },
  {
   "cell_type": "code",
   "execution_count": 4,
   "metadata": {
    "id": "-Ompmi2HCwwW"
   },
   "outputs": [],
   "source": [
    "import numpy as np\n",
    "\n",
    "def vectorize_sequences(sequences, dimension=10000):\n",
    "    results = np.zeros((len(sequences), dimension))    # Creates an all zero matrix of shape (len(sequences),10K)\n",
    "    for i,sequence in enumerate(sequences):\n",
    "        results[i,sequence] = 1                        # Sets specific indices of results[i] to 1s\n",
    "    return results\n",
    "\n",
    "# Vectorize training Data\n",
    "X_train = vectorize_sequences(train_data)\n",
    "\n",
    "# Vectorize testing Data\n",
    "X_test = vectorize_sequences(test_data)"
   ]
  },
  {
   "cell_type": "code",
   "execution_count": 5,
   "metadata": {
    "colab": {
     "base_uri": "https://localhost:8080/"
    },
    "executionInfo": {
     "elapsed": 727,
     "status": "ok",
     "timestamp": 1681968085645,
     "user": {
      "displayName": "BE_34_RUTUJA KSHIRSAGAR",
      "userId": "06581391834863968991"
     },
     "user_tz": -330
    },
    "id": "DYY9WIRRDIpI",
    "outputId": "4e85dcf1-f270-4d55-ea73-addd14f559a3"
   },
   "outputs": [
    {
     "data": {
      "text/plain": [
       "array([0., 1., 1., ..., 0., 0., 0.])"
      ]
     },
     "execution_count": 5,
     "metadata": {},
     "output_type": "execute_result"
    }
   ],
   "source": [
    "X_train[0]"
   ]
  },
  {
   "cell_type": "code",
   "execution_count": 6,
   "metadata": {
    "colab": {
     "base_uri": "https://localhost:8080/"
    },
    "executionInfo": {
     "elapsed": 10,
     "status": "ok",
     "timestamp": 1681968087741,
     "user": {
      "displayName": "BE_34_RUTUJA KSHIRSAGAR",
      "userId": "06581391834863968991"
     },
     "user_tz": -330
    },
    "id": "3xNBzIAVC-Td",
    "outputId": "6a394e39-ce0d-42ec-96c9-bfb45b16bc22"
   },
   "outputs": [
    {
     "data": {
      "text/plain": [
       "(25000, 10000)"
      ]
     },
     "execution_count": 6,
     "metadata": {},
     "output_type": "execute_result"
    }
   ],
   "source": [
    "X_train.shape"
   ]
  },
  {
   "cell_type": "code",
   "execution_count": 7,
   "metadata": {
    "id": "z4340WeSDR79"
   },
   "outputs": [],
   "source": [
    "y_train = np.asarray(train_labels).astype('float32')\n",
    "y_test  = np.asarray(test_labels).astype('float32')"
   ]
  },
  {
   "cell_type": "markdown",
   "metadata": {
    "id": "yLovgegiD_zb"
   },
   "source": [
    "**Building the Neural Network**"
   ]
  },
  {
   "cell_type": "code",
   "execution_count": 8,
   "metadata": {
    "id": "bs7EWGeUD7R4"
   },
   "outputs": [],
   "source": [
    "from keras import models\n",
    "from keras import layers\n",
    "\n",
    "model = models.Sequential()\n",
    "model.add(layers.Dense(16, activation='relu', input_shape=(10000,)))\n",
    "model.add(layers.Dense(16, activation='relu'))\n",
    "model.add(layers.Dense(1, activation='sigmoid'))"
   ]
  },
  {
   "cell_type": "markdown",
   "metadata": {
    "id": "2J6Py7qjEoVx"
   },
   "source": [
    "**Compiling the Model**"
   ]
  },
  {
   "cell_type": "code",
   "execution_count": 16,
   "metadata": {
    "colab": {
     "base_uri": "https://localhost:8080/"
    },
    "executionInfo": {
     "elapsed": 7,
     "status": "ok",
     "timestamp": 1681968095311,
     "user": {
      "displayName": "BE_34_RUTUJA KSHIRSAGAR",
      "userId": "06581391834863968991"
     },
     "user_tz": -330
    },
    "id": "SeQiPq4_EnKQ",
    "outputId": "d643f08c-6f06-46e8-e6cb-0bd4943c949f"
   },
   "outputs": [],
   "source": [
    "from tensorflow.keras import optimizers\n",
    "from keras import losses\n",
    "from keras.metrics import *\n",
    "\n",
    "model.compile(loss='binary_crossentropy', optimizer= 'adam', metrics=['accuracy'])\n",
    "     "
   ]
  },
  {
   "cell_type": "markdown",
   "metadata": {
    "id": "CxkTq373E6oG"
   },
   "source": [
    "**Setting up Validation**"
   ]
  },
  {
   "cell_type": "code",
   "execution_count": 17,
   "metadata": {
    "id": "LljOZUfRE87f"
   },
   "outputs": [],
   "source": [
    "# Input for Validation\n",
    "X_val = X_train[:10000]\n",
    "partial_X_train = X_train[10000:]\n",
    "\n",
    "# Labels for validation\n",
    "y_val = y_train[:10000]\n",
    "partial_y_train = y_train[10000:]"
   ]
  },
  {
   "cell_type": "markdown",
   "metadata": {
    "id": "r4NSYCNWFHRJ"
   },
   "source": [
    "**Training our Model**"
   ]
  },
  {
   "cell_type": "code",
   "execution_count": 18,
   "metadata": {
    "colab": {
     "base_uri": "https://localhost:8080/"
    },
    "executionInfo": {
     "elapsed": 42454,
     "status": "ok",
     "timestamp": 1681968144399,
     "user": {
      "displayName": "BE_34_RUTUJA KSHIRSAGAR",
      "userId": "06581391834863968991"
     },
     "user_tz": -330
    },
    "id": "gJRLYWXwFGKw",
    "outputId": "f9befa1a-4434-4bfa-a5a6-5a04587dbd6e"
   },
   "outputs": [
    {
     "name": "stdout",
     "output_type": "stream",
     "text": [
      "Epoch 1/20\n",
      "30/30 [==============================] - 29s 144ms/step - loss: 0.6537 - accuracy: 0.6584 - val_loss: 0.4820 - val_accuracy: 0.8483\n",
      "Epoch 2/20\n",
      "30/30 [==============================] - 1s 32ms/step - loss: 0.4152 - accuracy: 0.8800 - val_loss: 0.3418 - val_accuracy: 0.8843\n",
      "Epoch 3/20\n",
      "30/30 [==============================] - 1s 30ms/step - loss: 0.2706 - accuracy: 0.9193 - val_loss: 0.2974 - val_accuracy: 0.8846\n",
      "Epoch 4/20\n",
      "30/30 [==============================] - 1s 30ms/step - loss: 0.1987 - accuracy: 0.9390 - val_loss: 0.2780 - val_accuracy: 0.8903\n",
      "Epoch 5/20\n",
      "30/30 [==============================] - 1s 29ms/step - loss: 0.1532 - accuracy: 0.9552 - val_loss: 0.2796 - val_accuracy: 0.8895\n",
      "Epoch 6/20\n",
      "30/30 [==============================] - 1s 26ms/step - loss: 0.1178 - accuracy: 0.9684 - val_loss: 0.2902 - val_accuracy: 0.8858\n",
      "Epoch 7/20\n",
      "30/30 [==============================] - 1s 28ms/step - loss: 0.0971 - accuracy: 0.9750 - val_loss: 0.3057 - val_accuracy: 0.8830\n",
      "Epoch 8/20\n",
      "30/30 [==============================] - 1s 28ms/step - loss: 0.0798 - accuracy: 0.9832 - val_loss: 0.3234 - val_accuracy: 0.8819\n",
      "Epoch 9/20\n",
      "30/30 [==============================] - 1s 31ms/step - loss: 0.0640 - accuracy: 0.9873 - val_loss: 0.3460 - val_accuracy: 0.8808\n",
      "Epoch 10/20\n",
      "30/30 [==============================] - 1s 30ms/step - loss: 0.0546 - accuracy: 0.9916 - val_loss: 0.3691 - val_accuracy: 0.8790\n",
      "Epoch 11/20\n",
      "30/30 [==============================] - 1s 32ms/step - loss: 0.0424 - accuracy: 0.9943 - val_loss: 0.3891 - val_accuracy: 0.8784\n",
      "Epoch 12/20\n",
      "30/30 [==============================] - 1s 28ms/step - loss: 0.0346 - accuracy: 0.9961 - val_loss: 0.4153 - val_accuracy: 0.8771\n",
      "Epoch 13/20\n",
      "30/30 [==============================] - 1s 31ms/step - loss: 0.0291 - accuracy: 0.9971 - val_loss: 0.4367 - val_accuracy: 0.8753\n",
      "Epoch 14/20\n",
      "30/30 [==============================] - 1s 30ms/step - loss: 0.0225 - accuracy: 0.9988 - val_loss: 0.4589 - val_accuracy: 0.8729\n",
      "Epoch 15/20\n",
      "30/30 [==============================] - 1s 28ms/step - loss: 0.0179 - accuracy: 0.9991 - val_loss: 0.4829 - val_accuracy: 0.8721\n",
      "Epoch 16/20\n",
      "30/30 [==============================] - 1s 36ms/step - loss: 0.0150 - accuracy: 0.9992 - val_loss: 0.5055 - val_accuracy: 0.8704\n",
      "Epoch 17/20\n",
      "30/30 [==============================] - 1s 41ms/step - loss: 0.0137 - accuracy: 0.9993 - val_loss: 0.5284 - val_accuracy: 0.8699\n",
      "Epoch 18/20\n",
      "30/30 [==============================] - 1s 39ms/step - loss: 0.0101 - accuracy: 0.9999 - val_loss: 0.5541 - val_accuracy: 0.8707\n",
      "Epoch 19/20\n",
      "30/30 [==============================] - 1s 30ms/step - loss: 0.0090 - accuracy: 0.9999 - val_loss: 0.5799 - val_accuracy: 0.8695\n",
      "Epoch 20/20\n",
      "30/30 [==============================] - 1s 26ms/step - loss: 0.0069 - accuracy: 0.9998 - val_loss: 0.6041 - val_accuracy: 0.8682\n"
     ]
    }
   ],
   "source": [
    "history = model.fit(partial_X_train,\n",
    "                   partial_y_train,\n",
    "                   epochs=20,\n",
    "                   batch_size=512,\n",
    "                   validation_data=(X_val, y_val))"
   ]
  },
  {
   "cell_type": "code",
   "execution_count": 19,
   "metadata": {
    "colab": {
     "base_uri": "https://localhost:8080/"
    },
    "executionInfo": {
     "elapsed": 8,
     "status": "ok",
     "timestamp": 1681968152862,
     "user": {
      "displayName": "BE_34_RUTUJA KSHIRSAGAR",
      "userId": "06581391834863968991"
     },
     "user_tz": -330
    },
    "id": "Z6sIYH5jFid_",
    "outputId": "5adc9d1f-3063-4741-c565-0fe353e0d6be"
   },
   "outputs": [
    {
     "data": {
      "text/plain": [
       "dict_keys(['loss', 'accuracy', 'val_loss', 'val_accuracy'])"
      ]
     },
     "execution_count": 19,
     "metadata": {},
     "output_type": "execute_result"
    }
   ],
   "source": [
    "history_dict = history.history\n",
    "history_dict.keys()\n",
    "# history_dict contain 'loss', 'binary_accuracy', 'val_loss', 'val_binary_accuracy'"
   ]
  },
  {
   "cell_type": "code",
   "execution_count": 20,
   "metadata": {
    "id": "novDAARBFxkE"
   },
   "outputs": [],
   "source": [
    "import matplotlib.pyplot as plt\n",
    "%matplotlib inline"
   ]
  },
  {
   "cell_type": "code",
   "execution_count": 21,
   "metadata": {
    "colab": {
     "base_uri": "https://localhost:8080/",
     "height": 472
    },
    "executionInfo": {
     "elapsed": 14,
     "status": "ok",
     "timestamp": 1681968157517,
     "user": {
      "displayName": "BE_34_RUTUJA KSHIRSAGAR",
      "userId": "06581391834863968991"
     },
     "user_tz": -330
    },
    "id": "khXGp6WgFtMg",
    "outputId": "5df62936-cdd1-486a-e097-54f49209cd87"
   },
   "outputs": [
    {
     "data": {
      "image/png": "[encoded data removed]",
      "text/plain": [
       "<Figure size 432x288 with 1 Axes>"
      ]
     },
     "metadata": {
      "needs_background": "light"
     },
     "output_type": "display_data"
    }
   ],
   "source": [
    "# Plotting losses\n",
    "loss_values = history_dict['loss']\n",
    "val_loss_values = history_dict['val_loss']\n",
    "\n",
    "epochs = range(1, len(loss_values) + 1)\n",
    "\n",
    "plt.plot(epochs, loss_values, 'bo', label=\"Training Loss\")\n",
    "plt.plot(epochs, val_loss_values, 'b', label=\"Validation Loss\")\n",
    "\n",
    "plt.title('Training and Validation Loss')\n",
    "plt.xlabel('Epochs')\n",
    "plt.ylabel('Loss Value')\n",
    "plt.legend()\n",
    "\n",
    "plt.show()"
   ]
  },
  {
   "cell_type": "code",
   "execution_count": 24,
   "metadata": {
    "colab": {
     "base_uri": "https://localhost:8080/",
     "height": 472
    },
    "executionInfo": {
     "elapsed": 700,
     "status": "ok",
     "timestamp": 1681968167802,
     "user": {
      "displayName": "BE_34_RUTUJA KSHIRSAGAR",
      "userId": "06581391834863968991"
     },
     "user_tz": -330
    },
    "id": "1_RM_TFEF5XH",
    "outputId": "f7410352-f148-4d46-9efd-6423c0b5c764"
   },
   "outputs": [
    {
     "data": {
      "image/png": "[encoded data removed]",
      "text/plain": [
       "<Figure size 432x288 with 1 Axes>"
      ]
     },
     "metadata": {
      "needs_background": "light"
     },
     "output_type": "display_data"
    }
   ],
   "source": [
    "# Training and Validation Accuracy\n",
    "\n",
    "acc_values = history_dict['accuracy']\n",
    "val_acc_values = history_dict['val_accuracy']\n",
    "\n",
    "epochs = range(1, len(loss_values) + 1)\n",
    "\n",
    "plt.plot(epochs, acc_values, 'ro', label=\"Training Accuracy\")\n",
    "plt.plot(epochs, val_acc_values, 'r', label=\"Validation Accuracy\")\n",
    "\n",
    "plt.title('Training and Validation Accuraccy')\n",
    "plt.xlabel('Epochs')\n",
    "plt.ylabel('Accuracy')\n",
    "plt.legend()\n",
    "\n",
    "plt.show()"
   ]
  },
  {
   "cell_type": "markdown",
   "metadata": {
    "id": "4RAH0ZjxGGFi"
   },
   "source": [
    "**Retraining our Model**"
   ]
  },
  {
   "cell_type": "code",
   "execution_count": 25,
   "metadata": {
    "colab": {
     "base_uri": "https://localhost:8080/"
    },
    "executionInfo": {
     "elapsed": 6660,
     "status": "ok",
     "timestamp": 1681968181554,
     "user": {
      "displayName": "BE_34_RUTUJA KSHIRSAGAR",
      "userId": "06581391834863968991"
     },
     "user_tz": -330
    },
    "id": "gozNh5-vGEyv",
    "outputId": "e324c06f-1d52-4a6c-8d1e-9c637c72a75e"
   },
   "outputs": [
    {
     "name": "stdout",
     "output_type": "stream",
     "text": [
      "Epoch 1/3\n",
      "30/30 [==============================] - 4s 126ms/step - loss: 0.0057 - accuracy: 0.9998 - val_loss: 0.6320 - val_accuracy: 0.8681\n",
      "Epoch 2/3\n",
      "30/30 [==============================] - 1s 24ms/step - loss: 0.0047 - accuracy: 0.9998 - val_loss: 0.6562 - val_accuracy: 0.8680\n",
      "Epoch 3/3\n",
      "30/30 [==============================] - 1s 17ms/step - loss: 0.0038 - accuracy: 0.9999 - val_loss: 0.6811 - val_accuracy: 0.8672\n"
     ]
    },
    {
     "data": {
      "text/plain": [
       "<keras.callbacks.History at 0x1c337486cd0>"
      ]
     },
     "execution_count": 25,
     "metadata": {},
     "output_type": "execute_result"
    }
   ],
   "source": [
    "model.fit(partial_X_train,\n",
    "          partial_y_train,\n",
    "                   epochs=3,\n",
    "                   batch_size=512,\n",
    "                   validation_data=(X_val, y_val))"
   ]
  },
  {
   "cell_type": "code",
   "execution_count": 26,
   "metadata": {
    "colab": {
     "base_uri": "https://localhost:8080/"
    },
    "executionInfo": {
     "elapsed": 5687,
     "status": "ok",
     "timestamp": 1681968189743,
     "user": {
      "displayName": "BE_34_RUTUJA KSHIRSAGAR",
      "userId": "06581391834863968991"
     },
     "user_tz": -330
    },
    "id": "jhBbAwIQG5d4",
    "outputId": "baf685ba-89b2-4568-b90d-3c2ab7a92c3c"
   },
   "outputs": [
    {
     "data": {
      "text/plain": [
       "array([[0.00717673],\n",
       "       [1.        ],\n",
       "       [0.9815633 ],\n",
       "       ...,\n",
       "       [0.00277752],\n",
       "       [0.00658557],\n",
       "       [0.9445588 ]], dtype=float32)"
      ]
     },
     "execution_count": 26,
     "metadata": {},
     "output_type": "execute_result"
    }
   ],
   "source": [
    "# Making Predictions for testing data\n",
    "np.set_printoptions(suppress=True)\n",
    "result = model.predict(X_test)\n",
    "result"
   ]
  },
  {
   "cell_type": "code",
   "execution_count": 27,
   "metadata": {
    "id": "tatjA7dCHuoK"
   },
   "outputs": [],
   "source": [
    "y_pred = np.zeros(len(result))\n",
    "for i, score in enumerate(result):\n",
    "    if score > 0.5 :\n",
    "       y_pred[i] = 1 \n",
    "    else : \n",
    "       0"
   ]
  },
  {
   "cell_type": "code",
   "execution_count": 28,
   "metadata": {
    "colab": {
     "base_uri": "https://localhost:8080/"
    },
    "executionInfo": {
     "elapsed": 4,
     "status": "ok",
     "timestamp": 1681968194321,
     "user": {
      "displayName": "BE_34_RUTUJA KSHIRSAGAR",
      "userId": "06581391834863968991"
     },
     "user_tz": -330
    },
    "id": "LqviZ1X_I7Im",
    "outputId": "9c8cd073-8726-4bad-90a8-4cb128927c59"
   },
   "outputs": [
    {
     "name": "stdout",
     "output_type": "stream",
     "text": [
      "Array of positive and Negative Review : \n",
      "Positive Review = 1 \n",
      "Negative Review = 0 \n",
      " [0. 1. 1. ... 0. 0. 1.]\n"
     ]
    }
   ],
   "source": [
    "print(\"Array of positive and Negative Review : \")\n",
    "print(\"Positive Review = 1 \\nNegative Review = 0 \\n\",y_pred)"
   ]
  },
  {
   "cell_type": "code",
   "execution_count": 29,
   "metadata": {
    "colab": {
     "base_uri": "https://localhost:8080/"
    },
    "executionInfo": {
     "elapsed": 1551,
     "status": "ok",
     "timestamp": 1681968197804,
     "user": {
      "displayName": "BE_34_RUTUJA KSHIRSAGAR",
      "userId": "06581391834863968991"
     },
     "user_tz": -330
    },
    "id": "zaM-LhlEIL1w",
    "outputId": "543d0c1f-6dac-4ac3-807a-43007337b416"
   },
   "outputs": [
    {
     "name": "stdout",
     "output_type": "stream",
     "text": [
      "Mean Absolute Error =  0.14372\n"
     ]
    }
   ],
   "source": [
    "from sklearn.metrics import mean_absolute_error\n",
    "MAE = mean_absolute_error(y_pred, y_test)\n",
    "print(\"Mean Absolute Error = \", MAE)"
   ]
  },
  {
   "cell_type": "code",
   "execution_count": 30,
   "metadata": {
    "colab": {
     "base_uri": "https://localhost:8080/"
    },
    "executionInfo": {
     "elapsed": 413,
     "status": "ok",
     "timestamp": 1681968392412,
     "user": {
      "displayName": "BE_34_RUTUJA KSHIRSAGAR",
      "userId": "06581391834863968991"
     },
     "user_tz": -330
    },
    "id": "M_mvMxlhFnNO",
    "outputId": "96ee011d-aee9-41ea-d0d6-fa4dc74bd3b6"
   },
   "outputs": [
    {
     "name": "stdout",
     "output_type": "stream",
     "text": [
      "Accuracy score =  0.85628\n"
     ]
    }
   ],
   "source": [
    "from sklearn.metrics import accuracy_score\n",
    "Accuracy = accuracy_score(y_pred, y_test)\n",
    "print(\"Accuracy score = \",Accuracy)\n"
   ]
  },
  {
   "cell_type": "code",
   "execution_count": null,
   "metadata": {},
   "outputs": [],
   "source": []
  }
 ],
 "metadata": {
  "colab": {
   "authorship_tag": "ABX9TyM43Ti35ZjRrt/lstJiI9vs",
   "provenance": []
  },
  "kernelspec": {
   "display_name": "Python 3 (ipykernel)",
   "language": "python",
   "name": "python3"
  },
  "language_info": {
   "codemirror_mode": {
    "name": "ipython",
    "version": 3
   },
   "file_extension": ".py",
   "mimetype": "text/x-python",
   "name": "python",
   "nbconvert_exporter": "python",
   "pygments_lexer": "ipython3",
   "version": "3.9.7"
  }
 },
 "nbformat": 4,
 "nbformat_minor": 1
}
